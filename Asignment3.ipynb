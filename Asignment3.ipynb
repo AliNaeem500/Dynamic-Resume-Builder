{
  "nbformat": 4,
  "nbformat_minor": 0,
  "metadata": {
    "colab": {
      "provenance": [],
      "authorship_tag": "ABX9TyPyYH0g0Ao0Pa/k2/q34QQy",
      "include_colab_link": true
    },
    "kernelspec": {
      "name": "python3",
      "display_name": "Python 3"
    },
    "language_info": {
      "name": "python"
    }
  },
  "cells": [
    {
      "cell_type": "markdown",
      "metadata": {
        "id": "view-in-github",
        "colab_type": "text"
      },
      "source": [
        "<a href=\"https://colab.research.google.com/github/AliNaeem500/Dynamic-Resume-Builder/blob/main/Asignment3.ipynb\" target=\"_parent\"><img src=\"https://colab.research.google.com/assets/colab-badge.svg\" alt=\"Open In Colab\"/></a>"
      ]
    },
    {
      "cell_type": "code",
      "source": [
        "\n",
        "# 1. Create a list of five numbers and append a new number to it. Print the updated list.\n",
        "numbers = [1,2,3,4,5,6]\n",
        "numbers.append(8)\n",
        "print (numbers)"
      ],
      "metadata": {
        "colab": {
          "base_uri": "https://localhost:8080/"
        },
        "id": "O9p0XW4xF9xT",
        "outputId": "7b24cbfd-55a3-48cb-dfa6-378f0747efdb"
      },
      "execution_count": null,
      "outputs": [
        {
          "output_type": "stream",
          "name": "stdout",
          "text": [
            "[1, 2, 3, 4, 5, 6, 8]\n"
          ]
        }
      ]
    },
    {
      "cell_type": "code",
      "source": [
        "# 2. Extend a list [1, 2, 3] with another list [4, 5, 6]. Print the result.\n",
        "list1 = [1, 2, 3]\n",
        "list2 = [4, 5, 6]\n",
        "list1.extend(list2)\n",
        "print (list1)"
      ],
      "metadata": {
        "colab": {
          "base_uri": "https://localhost:8080/"
        },
        "id": "nI2yQW9ZGs8k",
        "outputId": "99195b35-6bdc-4cc2-db8d-a097c61481ea"
      },
      "execution_count": null,
      "outputs": [
        {
          "output_type": "stream",
          "name": "stdout",
          "text": [
            "[1, 2, 3, 4, 5, 6]\n"
          ]
        }
      ]
    },
    {
      "cell_type": "code",
      "source": [
        "# 3. Insert the string \"Python\" at index 2 in the list [\"Java\", \"C++\", \"JavaScript\", \"Ruby\"].\n",
        "lan = [\"Java\", \"C++\", \"JavaScript\", \"Ruby\"]\n",
        "lan.insert (2 , \"Python\")\n",
        "print (lan)\n"
      ],
      "metadata": {
        "colab": {
          "base_uri": "https://localhost:8080/"
        },
        "id": "MUw4aI2eHl-G",
        "outputId": "910d28de-72a5-40c1-fad3-d07c6b4d3d0c"
      },
      "execution_count": null,
      "outputs": [
        {
          "output_type": "stream",
          "name": "stdout",
          "text": [
            "['Java', 'C++', 'Python', 'JavaScript', 'Ruby']\n"
          ]
        }
      ]
    },
    {
      "cell_type": "code",
      "source": [
        "# 4. Remove the first occurrence of the number 10 from the list [10, 20, 30, 10, 40].\n",
        "list = [10, 20, 30, 10, 40]\n",
        "list.remove(10)\n",
        "print (list)"
      ],
      "metadata": {
        "colab": {
          "base_uri": "https://localhost:8080/"
        },
        "id": "VitoKrwxJHel",
        "outputId": "f867f6d5-ca21-4559-c7ce-3f474ac5fde5"
      },
      "execution_count": null,
      "outputs": [
        {
          "output_type": "stream",
          "name": "stdout",
          "text": [
            "[20, 30, 10, 40]\n"
          ]
        }
      ]
    },
    {
      "cell_type": "code",
      "source": [
        "# 5. Use the pop() method to remove the last element from [100, 200, 300, 400] and print the modified list.\n",
        "poplist = [100, 200, 300, 400]\n",
        "poplist.pop()\n",
        "print (poplist)"
      ],
      "metadata": {
        "colab": {
          "base_uri": "https://localhost:8080/"
        },
        "id": "jFZEdS5aKDyc",
        "outputId": "4907167c-a73a-4114-c87b-5e775613f623"
      },
      "execution_count": null,
      "outputs": [
        {
          "output_type": "stream",
          "name": "stdout",
          "text": [
            "[100, 200, 300]\n"
          ]
        }
      ]
    },
    {
      "cell_type": "code",
      "source": [
        "# 6. Count how many times the number 5 appears in the list [5, 10, 5, 20, 5, 30].\n",
        "number = [5, 10, 5, 20, 5, 30]\n",
        "count = number.count(5)\n",
        "print (count)"
      ],
      "metadata": {
        "colab": {
          "base_uri": "https://localhost:8080/"
        },
        "id": "8PVWKUHSKty8",
        "outputId": "3c541869-f01e-48aa-9adf-2089a0936e8d"
      },
      "execution_count": null,
      "outputs": [
        {
          "output_type": "stream",
          "name": "stdout",
          "text": [
            "3\n"
          ]
        }
      ]
    },
    {
      "cell_type": "code",
      "source": [
        "# 7. Sort the list [9, 1, 8, 3, 5] in ascending and descending order\n",
        "\n",
        "#assending\n",
        "numb = [9, 1, 8, 3, 5]\n",
        "numb.sort()\n",
        "print (numb)\n",
        "\n",
        "#descending\n",
        "numb.sort(reverse=True)\n",
        "print (numb)"
      ],
      "metadata": {
        "colab": {
          "base_uri": "https://localhost:8080/"
        },
        "id": "tjhwN-YeR99E",
        "outputId": "d5226e2a-402f-47b9-c695-206d1096abc5"
      },
      "execution_count": null,
      "outputs": [
        {
          "output_type": "stream",
          "name": "stdout",
          "text": [
            "[1, 3, 5, 8, 9]\n",
            "[9, 8, 5, 3, 1]\n"
          ]
        }
      ]
    },
    {
      "cell_type": "code",
      "source": [
        "# 8. Reverse the list [“apple”, “banana”, “cherry”] using the reverse() method.\n",
        "fruits = [\"apple\", \"banana\", \"cherry\"]\n",
        "fruits.reverse()\n",
        "print (fruits)"
      ],
      "metadata": {
        "colab": {
          "base_uri": "https://localhost:8080/"
        },
        "id": "zDnEhvB9S-jk",
        "outputId": "0becd848-dbab-4616-f6b4-8ea517df65f4"
      },
      "execution_count": null,
      "outputs": [
        {
          "output_type": "stream",
          "name": "stdout",
          "text": [
            "['cherry', 'banana', 'apple']\n"
          ]
        }
      ]
    },
    {
      "cell_type": "code",
      "source": [
        "# 9. Create a copy of the list [1, 2, 3, 4, 5] and store it in another variable. Modify the\n",
        "# copied list and print both lists\n",
        "\n",
        "real_list = [1, 2, 3, 4, 5]\n",
        "copy_list = real_list.copy()\n",
        "copy_list.append(6)\n",
        "\n",
        "print (real_list)\n",
        "print (copy_list)"
      ],
      "metadata": {
        "colab": {
          "base_uri": "https://localhost:8080/"
        },
        "id": "Wu4BnPwyTiPE",
        "outputId": "c1ee136d-ab22-486f-db54-ab55a8dad53d"
      },
      "execution_count": null,
      "outputs": [
        {
          "output_type": "stream",
          "name": "stdout",
          "text": [
            "[1, 2, 3, 4, 5]\n",
            "[1, 2, 3, 4, 5, 6]\n"
          ]
        }
      ]
    },
    {
      "cell_type": "code",
      "source": [
        "# 10. Clear all elements from a list [“hello”, “world”, “python”] using the clear() method.\n",
        "\n",
        "words = [\"hello\", \"world\", \"python\"]\n",
        "words.clear()\n",
        "print(words)"
      ],
      "metadata": {
        "colab": {
          "base_uri": "https://localhost:8080/"
        },
        "id": "IXyW1337VDAz",
        "outputId": "d65bcb8c-d95b-47b0-cb1a-f46ca7f8e3c1"
      },
      "execution_count": null,
      "outputs": [
        {
          "output_type": "stream",
          "name": "stdout",
          "text": [
            "[]\n"
          ]
        }
      ]
    },
    {
      "cell_type": "markdown",
      "source": [
        "                              Tuple-Based Questions"
      ],
      "metadata": {
        "id": "Aj9Knb81NCTO"
      }
    },
    {
      "cell_type": "code",
      "source": [
        "# 11. Create a tuple with 5 different fruits and print the third fruit.\n",
        "\n",
        "fruits = (\"apple\", \"banana\", \"mango\", \"orange\", \"grapes\")\n",
        "\n",
        "print(fruits[2])\n"
      ],
      "metadata": {
        "colab": {
          "base_uri": "https://localhost:8080/"
        },
        "id": "0sgbetfHNJFW",
        "outputId": "22bc5dcf-82cd-41af-bcde-9736301c3b92"
      },
      "execution_count": null,
      "outputs": [
        {
          "output_type": "stream",
          "name": "stdout",
          "text": [
            "mango\n"
          ]
        }
      ]
    },
    {
      "cell_type": "code",
      "source": [
        "# 12. Convert the tuple (10, 20, 30, 40, 50) into a list, remove the number 30, and convert\n",
        "# it back into a tuple\n",
        "\n",
        "numbers = (10, 20, 30, 40, 50)\n",
        "num_list = list(numbers)\n",
        "num_list.remove(30)\n",
        "new_tuple = tuple(num_list)\n",
        "print(new_tuple)\n"
      ],
      "metadata": {
        "colab": {
          "base_uri": "https://localhost:8080/"
        },
        "id": "VydQ-PWYNeht",
        "outputId": "8fbbaf28-7959-47cc-a8d9-9076cc85cc71"
      },
      "execution_count": null,
      "outputs": [
        {
          "output_type": "stream",
          "name": "stdout",
          "text": [
            "(10, 20, 40, 50)\n"
          ]
        }
      ]
    },
    {
      "cell_type": "code",
      "source": [
        "# 13. Try to append an element to the tuple (“A”, “B”, “C”). What happens? How can you\n",
        "# modify a tuple indirectly?\n",
        "\n",
        "#we cant add any element in touple so firstly we convert touple into list array and then append and removes etc.\n",
        "\n",
        "letters = (\"A\", \"B\", \"C\")\n",
        "temp_list = list(letters)\n",
        "temp_list.append(\"D\")\n",
        "new_tuple = tuple(temp_list)\n",
        "print(new_tuple)\n"
      ],
      "metadata": {
        "colab": {
          "base_uri": "https://localhost:8080/"
        },
        "id": "FXNHsDDpNqnM",
        "outputId": "e96d4ad2-0344-4445-fe21-074e3b336644"
      },
      "execution_count": null,
      "outputs": [
        {
          "output_type": "stream",
          "name": "stdout",
          "text": [
            "('A', 'B', 'C', 'D')\n"
          ]
        }
      ]
    },
    {
      "cell_type": "code",
      "source": [
        "# 14. Unpack the tuple (100, 200, 300) into three separate variables and print them\n",
        "\n",
        "numbers = (100, 200, 300)\n",
        "x, y, z = numbers\n",
        "print(x)\n",
        "print(y)\n",
        "print(z)"
      ],
      "metadata": {
        "colab": {
          "base_uri": "https://localhost:8080/"
        },
        "id": "3civ98QnN2Ns",
        "outputId": "82ee027f-95e0-4243-8278-506e6e99727e"
      },
      "execution_count": null,
      "outputs": [
        {
          "output_type": "stream",
          "name": "stdout",
          "text": [
            "100\n",
            "200\n",
            "300\n"
          ]
        }
      ]
    },
    {
      "cell_type": "code",
      "source": [
        "# 15. Count the occurrences of 7 in the tuple (7, 1, 7, 3, 7, 5).\n",
        "\n",
        "numbers = (7, 1, 7, 3, 7, 5)\n",
        "count_7 = numbers.count(7)\n",
        "print(count_7)\n"
      ],
      "metadata": {
        "colab": {
          "base_uri": "https://localhost:8080/"
        },
        "id": "fmYC2tvQN7y8",
        "outputId": "11c130a0-486e-4fc0-c770-49c60d0e85b7"
      },
      "execution_count": null,
      "outputs": [
        {
          "output_type": "stream",
          "name": "stdout",
          "text": [
            "3\n"
          ]
        }
      ]
    },
    {
      "cell_type": "markdown",
      "source": [
        "                                      Advanced Problems"
      ],
      "metadata": {
        "id": "h5G2FjxcOI1O"
      }
    },
    {
      "cell_type": "code",
      "source": [
        "# 16. Write a function that takes a list and returns a new list with all even numbers removed.\n",
        "\n",
        "def remove_even_numbers(input_list):\n",
        "    return [num for num in input_list if num % 2 != 0]\n",
        "\n",
        "my_list = [1, 2, 3, 4, 5, 6, 7, 8]\n",
        "new_list = remove_even_numbers(my_list)\n",
        "print(new_list)\n",
        "\n"
      ],
      "metadata": {
        "id": "s19T4__LOLW2",
        "colab": {
          "base_uri": "https://localhost:8080/"
        },
        "outputId": "71602dbf-1fb9-4d5b-e2ae-d4572712d7f5"
      },
      "execution_count": 2,
      "outputs": [
        {
          "output_type": "stream",
          "name": "stdout",
          "text": [
            "[1, 3, 5, 7]\n"
          ]
        }
      ]
    },
    {
      "cell_type": "code",
      "source": [
        "# 17. Create a function that accepts a list and returns a new list with elements sorted in\n",
        "# descending order without using the sort() method.\n",
        "\n",
        "def sort_descending(input_list):\n",
        "    return sorted(input_list, reverse=True)\n",
        "\n",
        "my_list = [3, 1, 4, 2, 9, 6]\n",
        "sorted_list = sort_descending(my_list)\n",
        "print(sorted_list)\n"
      ],
      "metadata": {
        "id": "AiVyxXtBOR2d",
        "colab": {
          "base_uri": "https://localhost:8080/"
        },
        "outputId": "fc93beaa-9275-4608-e972-40fc3ec072f8"
      },
      "execution_count": 3,
      "outputs": [
        {
          "output_type": "stream",
          "name": "stdout",
          "text": [
            "[9, 6, 4, 3, 2, 1]\n"
          ]
        }
      ]
    },
    {
      "cell_type": "code",
      "source": [
        "# 18. Given a list of numbers, write a program to remove all duplicate elements and print the\n",
        "# unique elements.\n",
        "\n",
        "numbers = [1, 2, 2, 3, 4, 4, 5, 1, 6]\n",
        "unique_numbers = list(set(numbers))\n",
        "print(unique_numbers)\n"
      ],
      "metadata": {
        "id": "B1Phc-frOYas",
        "colab": {
          "base_uri": "https://localhost:8080/"
        },
        "outputId": "f399df11-ddaf-42ca-c1ac-dad054d0c682"
      },
      "execution_count": 4,
      "outputs": [
        {
          "output_type": "stream",
          "name": "stdout",
          "text": [
            "[1, 2, 3, 4, 5, 6]\n"
          ]
        }
      ]
    },
    {
      "cell_type": "code",
      "source": [
        "# 19. Given a tuple of names (“Alice”, “Bob”, “Charlie”, “Alice”, “David”), convert\n",
        "# it into a list, remove duplicates, and convert it back to a tuple.\n",
        "\n",
        "names = (\"Alice\", \"Bob\", \"Charlie\", \"Alice\", \"David\")\n",
        "list_names = list(names)\n",
        "list_names = set(list_names)\n",
        "unique_names = tuple(list_names)\n",
        "print(unique_names)"
      ],
      "metadata": {
        "id": "8VXlGKu_Ohf8",
        "colab": {
          "base_uri": "https://localhost:8080/"
        },
        "outputId": "c46e1f37-0b5f-433f-fb2c-b34c1cc1d3e0"
      },
      "execution_count": 9,
      "outputs": [
        {
          "output_type": "stream",
          "name": "stdout",
          "text": [
            "('Bob', 'Alice', 'David', 'Charlie')\n"
          ]
        }
      ]
    },
    {
      "cell_type": "code",
      "source": [
        "# 20.Create a program that takes a list of mixed data types (int, str, float) and separates\n",
        "# integers into one list, strings into another, and floats into another\n",
        "\n",
        "mixed_list = [1, \"hello\", 3.14, 42, \"world\", 2.5, 100, \"chat\", 9.9]\n",
        "\n",
        "ints = []\n",
        "strs = []\n",
        "floats = []\n",
        "\n",
        "for item in mixed_list:\n",
        "    if type(item) == int:\n",
        "        ints.append(item)\n",
        "    elif type(item) == str:\n",
        "        strs.append(item)\n",
        "    elif type(item) == float:\n",
        "        floats.append(item)\n",
        "\n",
        "print(\"Integers:\", ints)\n",
        "print(\"Strings:\", strs)\n",
        "print(\"Floats:\", floats)\n"
      ],
      "metadata": {
        "id": "aiLvbPTxOprM"
      },
      "execution_count": null,
      "outputs": []
    }
  ]
}